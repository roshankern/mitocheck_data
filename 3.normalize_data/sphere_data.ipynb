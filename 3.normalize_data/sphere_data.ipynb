{
 "cells": [
  {
   "cell_type": "code",
   "execution_count": null,
   "metadata": {},
   "outputs": [],
   "source": [
    "import pathlib\n",
    "\n",
    "import pandas as pd\n",
    "import numpy as np\n",
    "from sklearn.preprocessing import StandardScaler\n",
    "from joblib import dump\n",
    "from pycytominer.operations import Spherize\n",
    "\n",
    "import sys\n",
    "\n",
    "sys.path.append(\"../utils\")\n",
    "from load_utils import compile_mitocheck_batch_data, split_data\n",
    "from normalization_utils import get_normalization_scaler, get_normalized_mitocheck_data"
   ]
  },
  {
   "cell_type": "code",
   "execution_count": null,
   "metadata": {},
   "outputs": [],
   "source": [
    "feature_type = \"CP\""
   ]
  },
  {
   "cell_type": "code",
   "execution_count": null,
   "metadata": {},
   "outputs": [],
   "source": [
    "# get normalization scaler from negative control features (normalization population)\n",
    "print(\"Getting normalization scaler...\")\n",
    "negative_control_data_path = pathlib.Path(\n",
    "    \"../1.idr_streams/extracted_features/negative_control_data/merged_features/\"\n",
    ")\n",
    "\n",
    "# get normalization population\n",
    "norm_pop_data = compile_mitocheck_batch_data(negative_control_data_path, feature_type)\n",
    "\n",
    "# derive normalization scaler\n",
    "# get normalization population feature data\n",
    "_, norm_pop_feature_data = split_data(norm_pop_data, feature_type)\n",
    "\n",
    "# define normalization scaler to use\n",
    "spherize_center=True,\n",
    "spherize_method=\"ZCA-cor\"\n",
    "spherize_epsilon=1e-6\n",
    "normalization_scaler = Spherize(\n",
    "            center=spherize_center, method=spherize_method, epsilon=spherize_epsilon\n",
    "        )\n",
    "\n",
    "# fit this scaler to featuire data\n",
    "normalization_scaler.fit(norm_pop_feature_data)\n",
    "\n",
    "# save normalization scaler\n",
    "norm_scaler_save_path = pathlib.Path(\"scaler/normalization_scaler_spherized.joblib\")\n",
    "norm_scaler_save_path.parent.mkdir(parents=True, exist_ok=True)\n",
    "dump(normalization_scaler, norm_scaler_save_path)"
   ]
  },
  {
   "cell_type": "code",
   "execution_count": null,
   "metadata": {},
   "outputs": [],
   "source": [
    "# make results dir if it does not already exist\n",
    "results_dir = pathlib.Path(\"normalized_data/\")\n",
    "results_dir.mkdir(parents=True, exist_ok=True)\n",
    "\n",
    "# normalize the data at the following paths\n",
    "training_data_path = pathlib.Path(\n",
    "    \"../2.format_training_data/results/training_data.csv.gz\"\n",
    ")\n",
    "negative_control_data_path = pathlib.Path(\n",
    "    \"../1.idr_streams/extracted_features/negative_control_data/merged_features/\"\n",
    ")\n",
    "\n",
    "# normalize training data\n",
    "print(\"Normalizing training data...\")\n",
    "training_data = pd.read_csv(training_data_path, compression=\"gzip\", index_col=0)\n",
    "\n",
    "\n",
    "normalized_data = get_normalized_mitocheck_data(data, normalization_scaler)\n",
    "\n",
    "\n",
    "# save normalized training data\n",
    "save_path = pathlib.Path(f\"{results_dir}/training_data_spherized.csv.gz\")\n",
    "normalized_data.to_csv(save_path, compression=\"gzip\")"
   ]
  }
 ],
 "metadata": {
  "kernelspec": {
   "display_name": "Python 3.8.13 ('mitocheck_data')",
   "language": "python",
   "name": "python3"
  },
  "language_info": {
   "codemirror_mode": {
    "name": "ipython",
    "version": 3
   },
   "file_extension": ".py",
   "mimetype": "text/x-python",
   "name": "python",
   "nbconvert_exporter": "python",
   "pygments_lexer": "ipython3",
   "version": "3.8.13"
  },
  "orig_nbformat": 4,
  "vscode": {
   "interpreter": {
    "hash": "6a8a2a08f220f21995bf3ea89450d54896262b1bf39109bbe0ac9ff6cde8a3ed"
   }
  }
 },
 "nbformat": 4,
 "nbformat_minor": 2
}
